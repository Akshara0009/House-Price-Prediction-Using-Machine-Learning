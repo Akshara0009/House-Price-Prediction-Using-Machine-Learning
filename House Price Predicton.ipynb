{
 "cells": [
  {
   "cell_type": "markdown",
   "id": "93f36bb2",
   "metadata": {},
   "source": [
    "## House Price Prediction Using Machine Learning"
   ]
  },
  {
   "cell_type": "code",
   "execution_count": 1,
   "id": "6b95831b",
   "metadata": {},
   "outputs": [
    {
     "name": "stdout",
     "output_type": "stream",
     "text": [
      "WARNING:tensorflow:From C:\\Users\\aksha\\AppData\\Roaming\\Python\\Python310\\site-packages\\keras\\src\\losses.py:2976: The name tf.losses.sparse_softmax_cross_entropy is deprecated. Please use tf.compat.v1.losses.sparse_softmax_cross_entropy instead.\n",
      "\n"
     ]
    }
   ],
   "source": [
    "import tensorflow as tf\n",
    "import pandas as pd\n",
    "import numpy as np\n",
    "import matplotlib.pyplot as plt\n",
    "import seaborn as sns\n",
    "import warnings\n",
    "warnings.filterwarnings('ignore')"
   ]
  },
  {
   "cell_type": "code",
   "execution_count": 2,
   "id": "36f338d4",
   "metadata": {},
   "outputs": [
    {
     "data": {
      "text/html": [
       "<div>\n",
       "<style scoped>\n",
       "    .dataframe tbody tr th:only-of-type {\n",
       "        vertical-align: middle;\n",
       "    }\n",
       "\n",
       "    .dataframe tbody tr th {\n",
       "        vertical-align: top;\n",
       "    }\n",
       "\n",
       "    .dataframe thead th {\n",
       "        text-align: right;\n",
       "    }\n",
       "</style>\n",
       "<table border=\"1\" class=\"dataframe\">\n",
       "  <thead>\n",
       "    <tr style=\"text-align: right;\">\n",
       "      <th></th>\n",
       "      <th>0.00632  18.00   2.310  0  0.5380  6.5750  65.20  4.0900   1  296.0  15.30 396.90   4.98  24.00</th>\n",
       "    </tr>\n",
       "  </thead>\n",
       "  <tbody>\n",
       "    <tr>\n",
       "      <th>0</th>\n",
       "      <td>0.02731   0.00   7.070  0  0.4690  6.4210  78...</td>\n",
       "    </tr>\n",
       "    <tr>\n",
       "      <th>1</th>\n",
       "      <td>0.02729   0.00   7.070  0  0.4690  7.1850  61...</td>\n",
       "    </tr>\n",
       "    <tr>\n",
       "      <th>2</th>\n",
       "      <td>0.03237   0.00   2.180  0  0.4580  6.9980  45...</td>\n",
       "    </tr>\n",
       "    <tr>\n",
       "      <th>3</th>\n",
       "      <td>0.06905   0.00   2.180  0  0.4580  7.1470  54...</td>\n",
       "    </tr>\n",
       "    <tr>\n",
       "      <th>4</th>\n",
       "      <td>0.02985   0.00   2.180  0  0.4580  6.4300  58...</td>\n",
       "    </tr>\n",
       "  </tbody>\n",
       "</table>\n",
       "</div>"
      ],
      "text/plain": [
       "   0.00632  18.00   2.310  0  0.5380  6.5750  65.20  4.0900   1  296.0  15.30 396.90   4.98  24.00\n",
       "0   0.02731   0.00   7.070  0  0.4690  6.4210  78...                                              \n",
       "1   0.02729   0.00   7.070  0  0.4690  7.1850  61...                                              \n",
       "2   0.03237   0.00   2.180  0  0.4580  6.9980  45...                                              \n",
       "3   0.06905   0.00   2.180  0  0.4580  7.1470  54...                                              \n",
       "4   0.02985   0.00   2.180  0  0.4580  6.4300  58...                                              "
      ]
     },
     "execution_count": 2,
     "metadata": {},
     "output_type": "execute_result"
    }
   ],
   "source": [
    "house = pd.read_csv(r\"C:\\Users\\aksha\\OneDrive\\Documents\\PYTHON\\Datasets\\housing.csv\")\n",
    "house.head()"
   ]
  },
  {
   "cell_type": "code",
   "execution_count": 3,
   "id": "a9c9bb47",
   "metadata": {},
   "outputs": [
    {
     "data": {
      "text/html": [
       "<div>\n",
       "<style scoped>\n",
       "    .dataframe tbody tr th:only-of-type {\n",
       "        vertical-align: middle;\n",
       "    }\n",
       "\n",
       "    .dataframe tbody tr th {\n",
       "        vertical-align: top;\n",
       "    }\n",
       "\n",
       "    .dataframe thead th {\n",
       "        text-align: right;\n",
       "    }\n",
       "</style>\n",
       "<table border=\"1\" class=\"dataframe\">\n",
       "  <thead>\n",
       "    <tr style=\"text-align: right;\">\n",
       "      <th></th>\n",
       "      <th>CRIM</th>\n",
       "      <th>ZN</th>\n",
       "      <th>INDUS</th>\n",
       "      <th>CHAS</th>\n",
       "      <th>NOX</th>\n",
       "      <th>RM</th>\n",
       "      <th>AGE</th>\n",
       "      <th>DIS</th>\n",
       "      <th>RAD</th>\n",
       "      <th>TAX</th>\n",
       "      <th>PTRATIO</th>\n",
       "      <th>B</th>\n",
       "      <th>LSTAT</th>\n",
       "      <th>MEDV</th>\n",
       "    </tr>\n",
       "  </thead>\n",
       "  <tbody>\n",
       "    <tr>\n",
       "      <th>0</th>\n",
       "      <td>0.00632</td>\n",
       "      <td>18.0</td>\n",
       "      <td>2.31</td>\n",
       "      <td>0</td>\n",
       "      <td>0.538</td>\n",
       "      <td>6.575</td>\n",
       "      <td>65.2</td>\n",
       "      <td>4.0900</td>\n",
       "      <td>1</td>\n",
       "      <td>296.0</td>\n",
       "      <td>15.3</td>\n",
       "      <td>396.90</td>\n",
       "      <td>4.98</td>\n",
       "      <td>24.0</td>\n",
       "    </tr>\n",
       "    <tr>\n",
       "      <th>1</th>\n",
       "      <td>0.02731</td>\n",
       "      <td>0.0</td>\n",
       "      <td>7.07</td>\n",
       "      <td>0</td>\n",
       "      <td>0.469</td>\n",
       "      <td>6.421</td>\n",
       "      <td>78.9</td>\n",
       "      <td>4.9671</td>\n",
       "      <td>2</td>\n",
       "      <td>242.0</td>\n",
       "      <td>17.8</td>\n",
       "      <td>396.90</td>\n",
       "      <td>9.14</td>\n",
       "      <td>21.6</td>\n",
       "    </tr>\n",
       "    <tr>\n",
       "      <th>2</th>\n",
       "      <td>0.02729</td>\n",
       "      <td>0.0</td>\n",
       "      <td>7.07</td>\n",
       "      <td>0</td>\n",
       "      <td>0.469</td>\n",
       "      <td>7.185</td>\n",
       "      <td>61.1</td>\n",
       "      <td>4.9671</td>\n",
       "      <td>2</td>\n",
       "      <td>242.0</td>\n",
       "      <td>17.8</td>\n",
       "      <td>392.83</td>\n",
       "      <td>4.03</td>\n",
       "      <td>34.7</td>\n",
       "    </tr>\n",
       "    <tr>\n",
       "      <th>3</th>\n",
       "      <td>0.03237</td>\n",
       "      <td>0.0</td>\n",
       "      <td>2.18</td>\n",
       "      <td>0</td>\n",
       "      <td>0.458</td>\n",
       "      <td>6.998</td>\n",
       "      <td>45.8</td>\n",
       "      <td>6.0622</td>\n",
       "      <td>3</td>\n",
       "      <td>222.0</td>\n",
       "      <td>18.7</td>\n",
       "      <td>394.63</td>\n",
       "      <td>2.94</td>\n",
       "      <td>33.4</td>\n",
       "    </tr>\n",
       "    <tr>\n",
       "      <th>4</th>\n",
       "      <td>0.06905</td>\n",
       "      <td>0.0</td>\n",
       "      <td>2.18</td>\n",
       "      <td>0</td>\n",
       "      <td>0.458</td>\n",
       "      <td>7.147</td>\n",
       "      <td>54.2</td>\n",
       "      <td>6.0622</td>\n",
       "      <td>3</td>\n",
       "      <td>222.0</td>\n",
       "      <td>18.7</td>\n",
       "      <td>396.90</td>\n",
       "      <td>5.33</td>\n",
       "      <td>36.2</td>\n",
       "    </tr>\n",
       "  </tbody>\n",
       "</table>\n",
       "</div>"
      ],
      "text/plain": [
       "      CRIM    ZN  INDUS  CHAS    NOX     RM   AGE     DIS  RAD    TAX  \\\n",
       "0  0.00632  18.0   2.31     0  0.538  6.575  65.2  4.0900    1  296.0   \n",
       "1  0.02731   0.0   7.07     0  0.469  6.421  78.9  4.9671    2  242.0   \n",
       "2  0.02729   0.0   7.07     0  0.469  7.185  61.1  4.9671    2  242.0   \n",
       "3  0.03237   0.0   2.18     0  0.458  6.998  45.8  6.0622    3  222.0   \n",
       "4  0.06905   0.0   2.18     0  0.458  7.147  54.2  6.0622    3  222.0   \n",
       "\n",
       "   PTRATIO       B  LSTAT  MEDV  \n",
       "0     15.3  396.90   4.98  24.0  \n",
       "1     17.8  396.90   9.14  21.6  \n",
       "2     17.8  392.83   4.03  34.7  \n",
       "3     18.7  394.63   2.94  33.4  \n",
       "4     18.7  396.90   5.33  36.2  "
      ]
     },
     "execution_count": 3,
     "metadata": {},
     "output_type": "execute_result"
    }
   ],
   "source": [
    "column_names = ['CRIM', 'ZN', 'INDUS', 'CHAS', 'NOX', 'RM', 'AGE', 'DIS', 'RAD', 'TAX', 'PTRATIO', 'B', 'LSTAT', 'MEDV']\n",
    "\n",
    "house = pd.read_csv(r\"C:\\Users\\aksha\\OneDrive\\Documents\\PYTHON\\Datasets\\housing.csv\",header=None, delimiter=r\"\\s+\",names=column_names)\n",
    "house.head()"
   ]
  },
  {
   "cell_type": "code",
   "execution_count": 4,
   "id": "184c9fbc",
   "metadata": {},
   "outputs": [
    {
     "data": {
      "text/plain": [
       "(506, 14)"
      ]
     },
     "execution_count": 4,
     "metadata": {},
     "output_type": "execute_result"
    }
   ],
   "source": [
    "# No. of Rows and Columns\n",
    "\n",
    "house.shape"
   ]
  },
  {
   "cell_type": "code",
   "execution_count": 5,
   "id": "4430899a",
   "metadata": {},
   "outputs": [
    {
     "data": {
      "text/plain": [
       "CRIM       0\n",
       "ZN         0\n",
       "INDUS      0\n",
       "CHAS       0\n",
       "NOX        0\n",
       "RM         0\n",
       "AGE        0\n",
       "DIS        0\n",
       "RAD        0\n",
       "TAX        0\n",
       "PTRATIO    0\n",
       "B          0\n",
       "LSTAT      0\n",
       "MEDV       0\n",
       "dtype: int64"
      ]
     },
     "execution_count": 5,
     "metadata": {},
     "output_type": "execute_result"
    }
   ],
   "source": [
    "# To check Null values\n",
    "\n",
    "house.isnull().sum()"
   ]
  },
  {
   "cell_type": "code",
   "execution_count": 6,
   "id": "13768a79",
   "metadata": {},
   "outputs": [
    {
     "data": {
      "image/png": "[encoded data removed]",
      "text/plain": [
       "<Figure size 640x480 with 2 Axes>"
      ]
     },
     "metadata": {},
     "output_type": "display_data"
    }
   ],
   "source": [
    "sns.heatmap(house.isnull())\n",
    "plt.show()"
   ]
  },
  {
   "cell_type": "code",
   "execution_count": 7,
   "id": "6804fee6",
   "metadata": {},
   "outputs": [
    {
     "data": {
      "text/plain": [
       "CRIM       float64\n",
       "ZN         float64\n",
       "INDUS      float64\n",
       "CHAS         int64\n",
       "NOX        float64\n",
       "RM         float64\n",
       "AGE        float64\n",
       "DIS        float64\n",
       "RAD          int64\n",
       "TAX        float64\n",
       "PTRATIO    float64\n",
       "B          float64\n",
       "LSTAT      float64\n",
       "MEDV       float64\n",
       "dtype: object"
      ]
     },
     "execution_count": 7,
     "metadata": {},
     "output_type": "execute_result"
    }
   ],
   "source": [
    "house.dtypes"
   ]
  },
  {
   "cell_type": "code",
   "execution_count": 8,
   "id": "45304ab5",
   "metadata": {},
   "outputs": [
    {
     "data": {
      "text/plain": [
       "0"
      ]
     },
     "execution_count": 8,
     "metadata": {},
     "output_type": "execute_result"
    }
   ],
   "source": [
    "house.duplicated().sum()"
   ]
  },
  {
   "cell_type": "code",
   "execution_count": 9,
   "id": "d18f0aa8",
   "metadata": {},
   "outputs": [],
   "source": [
    "x = house.drop('MEDV',axis=1)\n",
    "y = house['MEDV']"
   ]
  },
  {
   "cell_type": "code",
   "execution_count": 10,
   "id": "0e28b205",
   "metadata": {},
   "outputs": [],
   "source": [
    "# Splitting our data / Train Test Split\n",
    "\n",
    "from sklearn.model_selection import train_test_split\n",
    "x_train, x_test, y_train, y_test = train_test_split(x,y,test_size=0.30,random_state=1)"
   ]
  },
  {
   "cell_type": "code",
   "execution_count": 11,
   "id": "03221190",
   "metadata": {},
   "outputs": [],
   "source": [
    "# Apply Scaling\n",
    "\n",
    "from sklearn.preprocessing import StandardScaler\n",
    "ss = StandardScaler()\n",
    "x_train = ss.fit_transform(x_train)\n",
    "x_test = ss.transform(x_test)"
   ]
  },
  {
   "cell_type": "code",
   "execution_count": 12,
   "id": "4b2ff579",
   "metadata": {},
   "outputs": [
    {
     "data": {
      "text/plain": [
       "((354, 13), (152, 13))"
      ]
     },
     "execution_count": 12,
     "metadata": {},
     "output_type": "execute_result"
    }
   ],
   "source": [
    "# Shape of x_train, x_test\n",
    "\n",
    "x_train.shape,x_test.shape"
   ]
  },
  {
   "cell_type": "code",
   "execution_count": 13,
   "id": "1048c474",
   "metadata": {},
   "outputs": [
    {
     "name": "stdout",
     "output_type": "stream",
     "text": [
      "WARNING:tensorflow:From C:\\Users\\aksha\\AppData\\Roaming\\Python\\Python310\\site-packages\\keras\\src\\backend.py:873: The name tf.get_default_graph is deprecated. Please use tf.compat.v1.get_default_graph instead.\n",
      "\n"
     ]
    }
   ],
   "source": [
    "# Creating a Neural Network (ANN)\n",
    "\n",
    "# Using Inbuilt class Sequential which is defined in tensorflow.keras\n",
    "\n",
    "# Creating Object of Sequential class\n",
    "\n",
    "model = tf.keras.Sequential([\n",
    "    # first hidden layer\n",
    "    tf.keras.layers.Dense(units=14,activation='relu',input_shape=(13,)),\n",
    "    # Output layer\n",
    "    tf.keras.layers.Dense(units=1,activation='linear')\n",
    "])"
   ]
  },
  {
   "cell_type": "code",
   "execution_count": 14,
   "id": "d1299efe",
   "metadata": {},
   "outputs": [
    {
     "name": "stdout",
     "output_type": "stream",
     "text": [
      "Model: \"sequential\"\n",
      "_________________________________________________________________\n",
      " Layer (type)                Output Shape              Param #   \n",
      "=================================================================\n",
      " dense (Dense)               (None, 14)                196       \n",
      "                                                                 \n",
      " dense_1 (Dense)             (None, 1)                 15        \n",
      "                                                                 \n",
      "=================================================================\n",
      "Total params: 211 (844.00 Byte)\n",
      "Trainable params: 211 (844.00 Byte)\n",
      "Non-trainable params: 0 (0.00 Byte)\n",
      "_________________________________________________________________\n"
     ]
    }
   ],
   "source": [
    "# To show summary of our model\n",
    "\n",
    "model.summary()"
   ]
  },
  {
   "cell_type": "code",
   "execution_count": 15,
   "id": "4d03c7aa",
   "metadata": {},
   "outputs": [
    {
     "name": "stdout",
     "output_type": "stream",
     "text": [
      "WARNING:tensorflow:From C:\\Users\\aksha\\AppData\\Roaming\\Python\\Python310\\site-packages\\keras\\src\\optimizers\\__init__.py:309: The name tf.train.Optimizer is deprecated. Please use tf.compat.v1.train.Optimizer instead.\n",
      "\n"
     ]
    }
   ],
   "source": [
    "# Compile our Model\n",
    "\n",
    "model.compile(optimizer='sgd',loss='mse')"
   ]
  },
  {
   "cell_type": "code",
   "execution_count": 16,
   "id": "5e0a7273",
   "metadata": {},
   "outputs": [],
   "source": [
    "# Creating a procedure to decide the no. of epochs to train the model (EarlyStopping)\n",
    "\n",
    "from tensorflow.keras.callbacks import EarlyStopping\n",
    "\n",
    "# create object for EarlyStopping class\n",
    "cb = EarlyStopping(\n",
    "    monitor = 'val_loss',   # testing error\n",
    "    min_delta = 0.00001,    # min value of delta\n",
    "    patience = 20,\n",
    "    verbose = 1,\n",
    "    mode = 'auto',\n",
    "    baseline = None,\n",
    "    restore_best_weights = False\n",
    ")"
   ]
  },
  {
   "cell_type": "code",
   "execution_count": 17,
   "id": "b985d847",
   "metadata": {},
   "outputs": [
    {
     "name": "stdout",
     "output_type": "stream",
     "text": [
      "Epoch 1/5000\n",
      "WARNING:tensorflow:From C:\\Users\\aksha\\AppData\\Roaming\\Python\\Python310\\site-packages\\keras\\src\\utils\\tf_utils.py:492: The name tf.ragged.RaggedTensorValue is deprecated. Please use tf.compat.v1.ragged.RaggedTensorValue instead.\n",
      "\n",
      "12/12 [==============================] - 1s 21ms/step - loss: 166.9018 - val_loss: 33.2259\n",
      "Epoch 2/5000\n",
      "12/12 [==============================] - 0s 5ms/step - loss: 30.5249 - val_loss: 37.8504\n",
      "Epoch 3/5000\n",
      "12/12 [==============================] - 0s 5ms/step - loss: 25.9132 - val_loss: 83.6451\n",
      "Epoch 4/5000\n",
      "12/12 [==============================] - 0s 6ms/step - loss: 32.1099 - val_loss: 16.5142\n",
      "Epoch 5/5000\n",
      "12/12 [==============================] - 0s 6ms/step - loss: 19.4020 - val_loss: 13.9796\n",
      "Epoch 6/5000\n",
      "12/12 [==============================] - 0s 6ms/step - loss: 17.3277 - val_loss: 36.1651\n",
      "Epoch 7/5000\n",
      "12/12 [==============================] - 0s 6ms/step - loss: 19.2457 - val_loss: 48.5194\n",
      "Epoch 8/5000\n",
      "12/12 [==============================] - 0s 5ms/step - loss: 22.9322 - val_loss: 22.8619\n",
      "Epoch 9/5000\n",
      "12/12 [==============================] - 0s 6ms/step - loss: 16.9891 - val_loss: 33.7123\n",
      "Epoch 10/5000\n",
      "12/12 [==============================] - 0s 6ms/step - loss: 17.3348 - val_loss: 12.9475\n",
      "Epoch 11/5000\n",
      "12/12 [==============================] - 0s 6ms/step - loss: 14.9268 - val_loss: 31.8808\n",
      "Epoch 12/5000\n",
      "12/12 [==============================] - 0s 6ms/step - loss: 17.5393 - val_loss: 51.7917\n",
      "Epoch 13/5000\n",
      "12/12 [==============================] - 0s 6ms/step - loss: 18.1228 - val_loss: 12.7507\n",
      "Epoch 14/5000\n",
      "12/12 [==============================] - 0s 6ms/step - loss: 14.5485 - val_loss: 21.0100\n",
      "Epoch 15/5000\n",
      "12/12 [==============================] - 0s 7ms/step - loss: 15.4897 - val_loss: 22.2484\n",
      "Epoch 16/5000\n",
      "12/12 [==============================] - 0s 6ms/step - loss: 16.3250 - val_loss: 17.3098\n",
      "Epoch 17/5000\n",
      "12/12 [==============================] - 0s 6ms/step - loss: 13.9576 - val_loss: 11.4502\n",
      "Epoch 18/5000\n",
      "12/12 [==============================] - 0s 6ms/step - loss: 12.3748 - val_loss: 15.2357\n",
      "Epoch 19/5000\n",
      "12/12 [==============================] - 0s 6ms/step - loss: 12.9425 - val_loss: 147.5649\n",
      "Epoch 20/5000\n",
      "12/12 [==============================] - 0s 7ms/step - loss: 76.5190 - val_loss: 22.5207\n",
      "Epoch 21/5000\n",
      "12/12 [==============================] - 0s 6ms/step - loss: 18.2834 - val_loss: 50.6518\n",
      "Epoch 22/5000\n",
      "12/12 [==============================] - 0s 7ms/step - loss: 19.4994 - val_loss: 11.0828\n",
      "Epoch 23/5000\n",
      "12/12 [==============================] - 0s 6ms/step - loss: 15.0160 - val_loss: 35.2367\n",
      "Epoch 24/5000\n",
      "12/12 [==============================] - 0s 7ms/step - loss: 15.1436 - val_loss: 22.0090\n",
      "Epoch 25/5000\n",
      "12/12 [==============================] - 0s 6ms/step - loss: 14.0551 - val_loss: 9.8458\n",
      "Epoch 26/5000\n",
      "12/12 [==============================] - 0s 6ms/step - loss: 13.3913 - val_loss: 9.0977\n",
      "Epoch 27/5000\n",
      "12/12 [==============================] - 0s 6ms/step - loss: 12.9228 - val_loss: 10.7928\n",
      "Epoch 28/5000\n",
      "12/12 [==============================] - 0s 6ms/step - loss: 12.8256 - val_loss: 10.6366\n",
      "Epoch 29/5000\n",
      "12/12 [==============================] - 0s 6ms/step - loss: 11.3330 - val_loss: 15.6200\n",
      "Epoch 30/5000\n",
      "12/12 [==============================] - 0s 5ms/step - loss: 13.5252 - val_loss: 52.9380\n",
      "Epoch 31/5000\n",
      "12/12 [==============================] - 0s 6ms/step - loss: 15.4988 - val_loss: 9.1494\n",
      "Epoch 32/5000\n",
      "12/12 [==============================] - 0s 6ms/step - loss: 12.3034 - val_loss: 9.7794\n",
      "Epoch 33/5000\n",
      "12/12 [==============================] - 0s 6ms/step - loss: 11.4730 - val_loss: 15.4277\n",
      "Epoch 34/5000\n",
      "12/12 [==============================] - 0s 6ms/step - loss: 11.3086 - val_loss: 17.8474\n",
      "Epoch 35/5000\n",
      "12/12 [==============================] - 0s 6ms/step - loss: 10.9577 - val_loss: 11.3827\n",
      "Epoch 36/5000\n",
      "12/12 [==============================] - 0s 6ms/step - loss: 12.4548 - val_loss: 67.3647\n",
      "Epoch 37/5000\n",
      "12/12 [==============================] - 0s 7ms/step - loss: 17.2267 - val_loss: 28.2337\n",
      "Epoch 38/5000\n",
      "12/12 [==============================] - 0s 6ms/step - loss: 12.4516 - val_loss: 9.8417\n",
      "Epoch 39/5000\n",
      "12/12 [==============================] - 0s 7ms/step - loss: 10.5331 - val_loss: 11.0830\n",
      "Epoch 40/5000\n",
      "12/12 [==============================] - 0s 6ms/step - loss: 11.2132 - val_loss: 30.2338\n",
      "Epoch 41/5000\n",
      "12/12 [==============================] - 0s 6ms/step - loss: 12.8780 - val_loss: 13.2559\n",
      "Epoch 42/5000\n",
      "12/12 [==============================] - 0s 6ms/step - loss: 11.0278 - val_loss: 9.1090\n",
      "Epoch 43/5000\n",
      "12/12 [==============================] - 0s 6ms/step - loss: 10.2116 - val_loss: 8.1876\n",
      "Epoch 44/5000\n",
      "12/12 [==============================] - 0s 6ms/step - loss: 10.0587 - val_loss: 28.5544\n",
      "Epoch 45/5000\n",
      "12/12 [==============================] - 0s 6ms/step - loss: 11.2534 - val_loss: 33.9632\n",
      "Epoch 46/5000\n",
      "12/12 [==============================] - 0s 6ms/step - loss: 12.4994 - val_loss: 9.2066\n",
      "Epoch 47/5000\n",
      "12/12 [==============================] - 0s 6ms/step - loss: 9.7565 - val_loss: 8.4659\n",
      "Epoch 48/5000\n",
      "12/12 [==============================] - 0s 6ms/step - loss: 9.8094 - val_loss: 15.0985\n",
      "Epoch 49/5000\n",
      "12/12 [==============================] - 0s 6ms/step - loss: 11.1978 - val_loss: 11.6328\n",
      "Epoch 50/5000\n",
      "12/12 [==============================] - 0s 6ms/step - loss: 10.2563 - val_loss: 20.4277\n",
      "Epoch 51/5000\n",
      "12/12 [==============================] - 0s 6ms/step - loss: 12.2424 - val_loss: 8.5268\n",
      "Epoch 52/5000\n",
      "12/12 [==============================] - 0s 6ms/step - loss: 9.5701 - val_loss: 9.1183\n",
      "Epoch 53/5000\n",
      "12/12 [==============================] - 0s 5ms/step - loss: 10.7120 - val_loss: 36.4478\n",
      "Epoch 54/5000\n",
      "12/12 [==============================] - 0s 6ms/step - loss: 11.7779 - val_loss: 8.3528\n",
      "Epoch 55/5000\n",
      "12/12 [==============================] - 0s 6ms/step - loss: 9.8116 - val_loss: 24.2175\n",
      "Epoch 56/5000\n",
      "12/12 [==============================] - 0s 6ms/step - loss: 11.4108 - val_loss: 17.8185\n",
      "Epoch 57/5000\n",
      "12/12 [==============================] - 0s 7ms/step - loss: 10.9455 - val_loss: 16.1788\n",
      "Epoch 58/5000\n",
      "12/12 [==============================] - 0s 6ms/step - loss: 10.3372 - val_loss: 10.4482\n",
      "Epoch 59/5000\n",
      "12/12 [==============================] - 0s 7ms/step - loss: 9.7369 - val_loss: 7.5552\n",
      "Epoch 60/5000\n",
      "12/12 [==============================] - 0s 6ms/step - loss: 9.3226 - val_loss: 13.8766\n",
      "Epoch 61/5000\n",
      "12/12 [==============================] - 0s 7ms/step - loss: 10.3753 - val_loss: 12.2015\n",
      "Epoch 62/5000\n",
      "12/12 [==============================] - 0s 6ms/step - loss: 9.2325 - val_loss: 41.4215\n",
      "Epoch 63/5000\n",
      "12/12 [==============================] - 0s 6ms/step - loss: 14.7588 - val_loss: 13.8239\n",
      "Epoch 64/5000\n",
      "12/12 [==============================] - 0s 6ms/step - loss: 11.0499 - val_loss: 8.8791\n",
      "Epoch 65/5000\n",
      "12/12 [==============================] - 0s 6ms/step - loss: 9.4592 - val_loss: 10.2364\n",
      "Epoch 66/5000\n",
      "12/12 [==============================] - 0s 6ms/step - loss: 9.4392 - val_loss: 16.7534\n",
      "Epoch 67/5000\n",
      "12/12 [==============================] - 0s 7ms/step - loss: 10.2609 - val_loss: 32.1728\n",
      "Epoch 68/5000\n",
      "12/12 [==============================] - 0s 6ms/step - loss: 12.0486 - val_loss: 9.2023\n",
      "Epoch 69/5000\n",
      "12/12 [==============================] - 0s 6ms/step - loss: 9.9158 - val_loss: 31.3579\n",
      "Epoch 70/5000\n",
      "12/12 [==============================] - 0s 6ms/step - loss: 11.6904 - val_loss: 8.7219\n",
      "Epoch 71/5000\n",
      "12/12 [==============================] - 0s 6ms/step - loss: 9.6351 - val_loss: 37.7020\n",
      "Epoch 72/5000\n",
      "12/12 [==============================] - 0s 6ms/step - loss: 17.4639 - val_loss: 21.6234\n",
      "Epoch 73/5000\n",
      "12/12 [==============================] - 0s 6ms/step - loss: 11.7351 - val_loss: 8.7072\n",
      "Epoch 74/5000\n",
      "12/12 [==============================] - 0s 6ms/step - loss: 9.5091 - val_loss: 18.8564\n",
      "Epoch 75/5000\n",
      "12/12 [==============================] - 0s 6ms/step - loss: 10.1322 - val_loss: 7.5842\n",
      "Epoch 76/5000\n",
      "12/12 [==============================] - 0s 6ms/step - loss: 8.9544 - val_loss: 16.5794\n",
      "Epoch 77/5000\n",
      "12/12 [==============================] - 0s 7ms/step - loss: 10.9560 - val_loss: 10.4899\n",
      "Epoch 78/5000\n",
      "12/12 [==============================] - 0s 7ms/step - loss: 8.9665 - val_loss: 8.6435\n",
      "Epoch 79/5000\n",
      "12/12 [==============================] - 0s 5ms/step - loss: 8.8553 - val_loss: 9.1775\n",
      "Epoch 79: early stopping\n"
     ]
    }
   ],
   "source": [
    "# Train our model, fit()\n",
    "\n",
    "trained_model = model.fit(x_train,y_train,callbacks=cb,epochs=5000,validation_data=(x_test,y_test))     # trained_model holds value of loss for each epoch(iteration)"
   ]
  },
  {
   "cell_type": "code",
   "execution_count": 18,
   "id": "7804331e",
   "metadata": {},
   "outputs": [
    {
     "name": "stdout",
     "output_type": "stream",
     "text": [
      "12/12 [==============================] - 0s 2ms/step - loss: 9.1904\n",
      "Training_loss : 9.190410614013672\n",
      "5/5 [==============================] - 0s 3ms/step - loss: 9.1775\n",
      "Testing_loss : 9.17752456665039\n"
     ]
    }
   ],
   "source": [
    "# Checking Training and Testing loss (This is the last iteration from above where our model stopped)\n",
    "\n",
    "print('Training_loss :',model.evaluate(x_train,y_train))\n",
    "print('Testing_loss :',model.evaluate(x_test,y_test))"
   ]
  },
  {
   "cell_type": "code",
   "execution_count": 19,
   "id": "04101d3d",
   "metadata": {},
   "outputs": [
    {
     "data": {
      "image/png": "[encoded data removed]",
      "text/plain": [
       "<Figure size 640x480 with 1 Axes>"
      ]
     },
     "metadata": {},
     "output_type": "display_data"
    }
   ],
   "source": [
    "# Visualizing loss and epochs of  each iteration\n",
    "\n",
    "plt.plot(trained_model.history['loss'],label='Training_loss')\n",
    "plt.plot(trained_model.history['val_loss'],label='Testing_loss')\n",
    "plt.xlabel('No, of Epochs')\n",
    "plt.ylabel('Mean Squared Error')\n",
    "plt.legend()\n",
    "plt.show()"
   ]
  },
  {
   "cell_type": "code",
   "execution_count": 20,
   "id": "a4a8b7d3",
   "metadata": {},
   "outputs": [
    {
     "name": "stdout",
     "output_type": "stream",
     "text": [
      "5/5 [==============================] - 0s 4ms/step\n"
     ]
    }
   ],
   "source": [
    "# Test the model (prediction)\n",
    "\n",
    "Y_pred = model.predict(x_test)"
   ]
  },
  {
   "cell_type": "code",
   "execution_count": 21,
   "id": "a6c89c09",
   "metadata": {},
   "outputs": [
    {
     "name": "stdout",
     "output_type": "stream",
     "text": [
      "0.8998682370863924\n"
     ]
    }
   ],
   "source": [
    "# Check the r2_score (accuracy)\n",
    "\n",
    "from sklearn.metrics import r2_score\n",
    "print(r2_score(y_test,Y_pred))"
   ]
  },
  {
   "cell_type": "code",
   "execution_count": null,
   "id": "348160ff",
   "metadata": {},
   "outputs": [],
   "source": []
  }
 ],
 "metadata": {
  "kernelspec": {
   "display_name": "Python 3 (ipykernel)",
   "language": "python",
   "name": "python3"
  },
  "language_info": {
   "codemirror_mode": {
    "name": "ipython",
    "version": 3
   },
   "file_extension": ".py",
   "mimetype": "text/x-python",
   "name": "python",
   "nbconvert_exporter": "python",
   "pygments_lexer": "ipython3",
   "version": "3.10.9"
  }
 },
 "nbformat": 4,
 "nbformat_minor": 5
}
